{
 "cells": [
  {
   "cell_type": "code",
   "execution_count": null,
   "metadata": {},
   "outputs": [],
   "source": [
    "\n",
    "from datetime import datetime\n",
    "firsname=\"konte\"\n",
    "lastname=\"souleymane\"\n",
    "phone=\"0769825646\"\n",
    "date=datetime(2023,01,25)\n"
   ]
  }
 ],
 "metadata": {
  "kernelspec": {
   "display_name": "Python 3",
   "language": "python",
   "name": "python3"
  },
  "language_info": {
   "name": "python",
   "version": "3.11.0 (main, Oct 24 2022, 18:26:48) [MSC v.1933 64 bit (AMD64)]"
  },
  "orig_nbformat": 4,
  "vscode": {
   "interpreter": {
    "hash": "70427211c23ab5cdd24bfa03d0a6fd9c32e50c3fe4b2efd43b548ad3bd1397ba"
   }
  }
 },
 "nbformat": 4,
 "nbformat_minor": 2
}
