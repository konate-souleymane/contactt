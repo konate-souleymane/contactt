{
 "cells": [
  {
   "cell_type": "code",
   "execution_count": 17,
   "metadata": {},
   "outputs": [
    {
     "ename": "UnboundLocalError",
     "evalue": "cannot access local variable 'date' where it is not associated with a value",
     "output_type": "error",
     "traceback": [
      "\u001b[1;31m---------------------------------------------------------------------------\u001b[0m",
      "\u001b[1;31mUnboundLocalError\u001b[0m                         Traceback (most recent call last)",
      "Cell \u001b[1;32mIn[17], line 21\u001b[0m\n\u001b[0;32m     17\u001b[0m     \u001b[39mfor\u001b[39;00m values \u001b[39min\u001b[39;00m contact\u001b[39m.\u001b[39mvalues():\n\u001b[0;32m     18\u001b[0m         \u001b[39mprint\u001b[39m(values)\n\u001b[1;32m---> 21\u001b[0m contact \u001b[39m=\u001b[39m creer_contact()\n\u001b[0;32m     22\u001b[0m show_contact(contact)\n",
      "Cell \u001b[1;32mIn[17], line 6\u001b[0m, in \u001b[0;36mcreer_contact\u001b[1;34m()\u001b[0m\n\u001b[0;32m      4\u001b[0m lastname \u001b[39m=\u001b[39m \u001b[39minput\u001b[39m(\u001b[39m\"\u001b[39m\u001b[39mVeuillez entrer le prenom :\u001b[39m\u001b[39m\"\u001b[39m)\n\u001b[0;32m      5\u001b[0m phone \u001b[39m=\u001b[39m \u001b[39minput\u001b[39m(\u001b[39m\"\u001b[39m\u001b[39mVeuillez entrer le numéro de mobile :\u001b[39m\u001b[39m\"\u001b[39m)\n\u001b[1;32m----> 6\u001b[0m date \u001b[39m=\u001b[39m date\u001b[39m.\u001b[39mtoday()\n\u001b[0;32m      7\u001b[0m dico_contact \u001b[39m=\u001b[39m {\n\u001b[0;32m      8\u001b[0m     \u001b[39m\"\u001b[39m\u001b[39mfirstname\u001b[39m\u001b[39m\"\u001b[39m: firstname,\n\u001b[0;32m      9\u001b[0m     \u001b[39m\"\u001b[39m\u001b[39mlastname\u001b[39m\u001b[39m\"\u001b[39m: lastname,\n\u001b[0;32m     10\u001b[0m     \u001b[39m\"\u001b[39m\u001b[39mphone\u001b[39m\u001b[39m\"\u001b[39m: phone,\n\u001b[0;32m     11\u001b[0m     \u001b[39m\"\u001b[39m\u001b[39mdate\u001b[39m\u001b[39m\"\u001b[39m: date\n\u001b[0;32m     12\u001b[0m }\n\u001b[0;32m     13\u001b[0m \u001b[39mreturn\u001b[39;00m dico_contact\n",
      "\u001b[1;31mUnboundLocalError\u001b[0m: cannot access local variable 'date' where it is not associated with a value"
     ]
    }
   ],
   "source": [
    "\n",
    "from datetime import date\n",
    "def creer_contact():\n",
    "    firstname = input(\"Veuillez entrer nom:\")\n",
    "    lastname = input(\"Veuillez entrer le prenom :\")\n",
    "    phone = input(\"Veuillez entrer le numéro de mobile :\")\n",
    "    dates = date.today()\n",
    "    dico_contact = {\n",
    "        \"firstname\": firstname,\n",
    "        \"lastname\": lastname,\n",
    "        \"phone\": phone,\n",
    "        \"date\": dates\n",
    "    }\n",
    "    return dico_contact\n",
    "\n",
    "\n",
    "def show_contact(contact):\n",
    "    for values in contact.values():\n",
    "        print(values)\n",
    "\n",
    "\n",
    "contact = creer_contact()\n",
    "show_contact(contact)"
   ]
  }
 ],
 "metadata": {
  "kernelspec": {
   "display_name": "Python 3",
   "language": "python",
   "name": "python3"
  },
  "language_info": {
   "codemirror_mode": {
    "name": "ipython",
    "version": 3
   },
   "file_extension": ".py",
   "mimetype": "text/x-python",
   "name": "python",
   "nbconvert_exporter": "python",
   "pygments_lexer": "ipython3",
   "version": "3.11.0"
  },
  "orig_nbformat": 4,
  "vscode": {
   "interpreter": {
    "hash": "70427211c23ab5cdd24bfa03d0a6fd9c32e50c3fe4b2efd43b548ad3bd1397ba"
   }
  }
 },
 "nbformat": 4,
 "nbformat_minor": 2
}
