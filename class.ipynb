{
 "cells": [
  {
   "cell_type": "code",
   "execution_count": 7,
   "metadata": {},
   "outputs": [
    {
     "name": "stdout",
     "output_type": "stream",
     "text": [
      "solo\n",
      "abbas\n",
      "07698256465\n",
      "2023-01-26\n",
      "solo\n",
      "abbas\n",
      "88877887787\n",
      "2023-01-26\n"
     ]
    }
   ],
   "source": [
    "from datetime import date\n",
    "\n",
    "\n",
    "class Contact:\n",
    "    def __init__(self, first_name, last_name, phone):\n",
    "        self.first_name = first_name\n",
    "        self.last_name = last_name\n",
    "        self.phone = phone\n",
    "        self.creation_time = date.today()\n",
    "        self.updated_phone = None\n",
    "\n",
    "    def update_phone(self, new_phone):\n",
    "        self.updated_phone = date.today()\n",
    "        self.phone = new_phone\n",
    "\n",
    "    def show_contact(self):\n",
    "        print(self.first_name)\n",
    "        print(self.last_name)\n",
    "        print(self.phone)\n",
    "        print(self.creation_time)\n",
    "\n",
    "\n",
    "konate = Contact(\"solo\", \"abbas\", \"07698256465\")\n",
    "konate.show_contact()\n",
    "konate.update_phone(\"88877887787\")\n",
    "konate.show_contact()"
   ]
  }
 ],
 "metadata": {
  "kernelspec": {
   "display_name": "Python 3",
   "language": "python",
   "name": "python3"
  },
  "language_info": {
   "codemirror_mode": {
    "name": "ipython",
    "version": 3
   },
   "file_extension": ".py",
   "mimetype": "text/x-python",
   "name": "python",
   "nbconvert_exporter": "python",
   "pygments_lexer": "ipython3",
   "version": "3.11.0"
  },
  "orig_nbformat": 4,
  "vscode": {
   "interpreter": {
    "hash": "70427211c23ab5cdd24bfa03d0a6fd9c32e50c3fe4b2efd43b548ad3bd1397ba"
   }
  }
 },
 "nbformat": 4,
 "nbformat_minor": 2
}
