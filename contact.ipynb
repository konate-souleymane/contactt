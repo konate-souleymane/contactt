{
 "cells": [
  {
   "cell_type": "code",
   "execution_count": 77,
   "metadata": {},
   "outputs": [],
   "source": [
    "class contact:\n",
    "    def __init__(self,nom,prenom,adresse,telephone,mail):\n",
    "        self.nom=nom\n",
    "        self.prenom=prenom\n",
    "        self.adresse=adresse\n",
    "        self.telephone=telephone\n",
    "        self.mail=mail\n",
    "\n",
    "    def __str__(self) -> str:\n",
    "        return f\"Nom : {self.nom}\\nPrenom : {self.prenom}\\nemail :{self.mail}\"\n",
    "\n",
    "\n",
    "    def modifier_nom(self,nouveau_nom):\n",
    "        self.nom=nouveau_nom\n",
    "       \n",
    "    def modifier_prenom(self,nouveau_prenom):\n",
    "        self.prenom=nouveau_prenom\n",
    "\n",
    "    def modifier_adresse(self,nouveau_adresse):\n",
    "        self.adresse=nouveau_adresse\n",
    "\n",
    "    def modifier_telephone(self,nouveau_telephone):\n",
    "        self.telephone=nouveau_telephone\n",
    "\n",
    "    def modifier_email(self,nouveau_email):\n",
    "        self.mail=nouveau_email\n",
    "\n",
    "class annuaire:\n",
    "    def __init__(self):\n",
    "        self.contacts=[]\n",
    "\n",
    "    def ajouter_contact(self,nom,prenom,adresse,telephone,mail):\n",
    "        nouveau_contact=contact(nom,prenom,adresse,telephone,mail)\n",
    "        self.contacts.append(nouveau_contact) \n",
    "\n",
    "    def supprimer_contact(self,numero_contact):\n",
    "\n",
    "        self.contacts.pop(numero_contact)\n",
    "\n",
    "\n",
    "    def ajouter_contact_utilisateur(self);\n",
    "    nom=input(\"entrz un nom\")    \n",
    "    prenom=input(\"entrez votre prenom\")\n",
    "    adresse=input(\"entrez votre adresse\")\n",
    "    telephone=input(\"entrez votre telephone\")\n",
    "    mail=input(\"entrez  votre mail\")\n",
    "    nouveau_contact=contact(nom,prenom,adresse,telephone,mail)\n",
    "    self.contacts.append(nouveau_contact) \n",
    "\n",
    "\n",
    "        \n",
    "        \n",
    "        \n",
    "  \n"
   ]
  },
  {
   "cell_type": "code",
   "execution_count": 81,
   "metadata": {},
   "outputs": [
    {
     "name": "stdout",
     "output_type": "stream",
     "text": [
      "Nom : konate\n",
      "Prenom : souleymane\n",
      "email :souleaudrey33@gmail.com\n",
      "Nom : konate\n",
      "Prenom : souley\n",
      "email :souleaudrey33@gmail.com\n",
      "Nom : konate\n",
      "Prenom : souleymane\n",
      "email :souleaudrey33@gmail.com\n",
      "Nom : konate\n",
      "Prenom : souleymane\n",
      "email :souleaudrey33@gmail.com\n",
      "Nom : konate\n",
      "Prenom : souleymane\n",
      "email :souleaudrey33@gmail.com\n",
      "4\n",
      "3\n"
     ]
    }
   ],
   "source": [
    "annuaire1=annuaire()\n",
    "annuaire1.ajouter_contact(\"konate\",\"souleymane\",\"52 rue chamfleuri\",\"0769825646\",\"souleaudrey33@gmail.com\")\n",
    "annuaire1.contacts\n",
    "annuaire1.ajouter_contact(\"konate\",\"souley\",\"52 rue chamfleuri\",\"0769825646\",\"souleaudrey33@gmail.com\")\n",
    "annuaire1.contacts\n",
    "annuaire1.ajouter_contact(\"konate\",\"souleymane\",\"52 rue chamfleuri\",\"0769825646\",\"souleaudrey33@gmail.com\")\n",
    "annuaire1.ajouter_contact(\"konate\",\"souleymane\",\"52 rue chamfleuri\",\"0769825646\",\"souleaudrey33@gmail.com\")\n",
    "annuaire1.ajouter_contact(\"konate\",\"souleymane\",\"52 rue chamfleuri\",\"0769825646\",\"souleaudrey33@gmail.com\")\n",
    "for contacte in annuaire1.contacts:\n",
    "    print(contacte)\n",
    "annuaire1.supprimer_contact(1)\n",
    "print(len(annuaire1.contacts))\n",
    "annuaire1.supprimer_contact(1)\n",
    "print(len(annuaire1.contacts))\n",
    "\n",
    "\n",
    "\n",
    "\n",
    "\n"
   ]
  },
  {
   "cell_type": "code",
   "execution_count": 51,
   "metadata": {},
   "outputs": [
    {
     "name": "stdout",
     "output_type": "stream",
     "text": [
      "Nom : konate\n",
      "Prenom : karim\n",
      "email :souleaudrey33@gmail.com\n",
      "Nom : konate\n",
      "Prenom : solo\n",
      "email :souleaudrey33@gmail.com\n"
     ]
    }
   ],
   "source": [
    "contact1=contact(\"konate\",\"souleymane\",\"52 rue chamfleuri\",\"0769825646\",\"souleaudrey33@gmail.com\")\n",
    "contact1.prenom=\"karim\"\n",
    "print(contact1)\n",
    "contact1.modifier_prenom(\"solo\")\n",
    "print(contact1)"
   ]
  },
  {
   "cell_type": "code",
   "execution_count": 41,
   "metadata": {},
   "outputs": [
    {
     "name": "stdout",
     "output_type": "stream",
     "text": [
      "Nom : konate\n",
      "prenom : souleymane\n"
     ]
    }
   ],
   "source": [
    "print(contact1)\n"
   ]
  },
  {
   "cell_type": "code",
   "execution_count": 53,
   "metadata": {},
   "outputs": [
    {
     "name": "stdout",
     "output_type": "stream",
     "text": [
      "Nom : konate\n",
      "Prenom : abbas\n",
      "email :souleaudrey33@gmail.com\n"
     ]
    },
    {
     "data": {
      "text/plain": [
       "'konasouleaudrey33@gmail.com'"
      ]
     },
     "execution_count": 53,
     "metadata": {},
     "output_type": "execute_result"
    }
   ],
   "source": [
    "contact2=contact(\"konate\",\"abbas\",\"52 rue chamfleuri\",\"0769825646\",\"souleaudrey33@gmail.com\")\n",
    "contact2.modifier_email(\"konasouleaudrey33@gmail.com\")\n",
    "print(contact2)\n",
    "contact2.imail"
   ]
  }
 ],
 "metadata": {
  "kernelspec": {
   "display_name": "Python 3",
   "language": "python",
   "name": "python3"
  },
  "language_info": {
   "codemirror_mode": {
    "name": "ipython",
    "version": 3
   },
   "file_extension": ".py",
   "mimetype": "text/x-python",
   "name": "python",
   "nbconvert_exporter": "python",
   "pygments_lexer": "ipython3",
   "version": "3.11.0"
  },
  "orig_nbformat": 4,
  "vscode": {
   "interpreter": {
    "hash": "70427211c23ab5cdd24bfa03d0a6fd9c32e50c3fe4b2efd43b548ad3bd1397ba"
   }
  }
 },
 "nbformat": 4,
 "nbformat_minor": 2
}
