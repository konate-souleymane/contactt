{
 "cells": [
  {
   "cell_type": "code",
   "execution_count": null,
   "metadata": {},
   "outputs": [],
   "source": [
    "from datetime import date\n",
    "def creer_contact():\n",
    "    firstname = input(\" entrer nom:\")\n",
    "    lastname = input(\" entrer le prenom :\")\n",
    "    phone = input(\"entrer le numéro:\")\n",
    "    dates = date.today()\n",
    "    dico_contact = {\n",
    "        \"firstname\": firstname,\n",
    "        \"lastname\": lastname,\n",
    "        \"phone\": phone,\n",
    "        \"date\": dates\n",
    "    }\n",
    "    return dico_contact\n",
    "\n",
    "\n",
    "def show_contact(contact):\n",
    "    for values in contact.values():\n",
    "        print(values)\n",
    "\n",
    "\n",
    "contact = creer_contact()\n",
    "show_contact(contact)"
   ]
  }
 ],
 "metadata": {
  "kernelspec": {
   "display_name": "Python 3",
   "language": "python",
   "name": "python3"
  },
  "language_info": {
   "codemirror_mode": {
    "name": "ipython",
    "version": 3
   },
   "file_extension": ".py",
   "mimetype": "text/x-python",
   "name": "python",
   "nbconvert_exporter": "python",
   "pygments_lexer": "ipython3",
   "version": "3.11.0 (main, Oct 24 2022, 18:26:48) [MSC v.1933 64 bit (AMD64)]"
  },
  "orig_nbformat": 4,
  "vscode": {
   "interpreter": {
    "hash": "70427211c23ab5cdd24bfa03d0a6fd9c32e50c3fe4b2efd43b548ad3bd1397ba"
   }
  }
 },
 "nbformat": 4,
 "nbformat_minor": 2
}
